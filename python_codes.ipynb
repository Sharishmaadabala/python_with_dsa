{
  "cells": [
    {
      "cell_type": "markdown",
      "metadata": {
        "id": "view-in-github",
        "colab_type": "text"
      },
      "source": [
        "<a href=\"https://colab.research.google.com/github/Sharishmaadabala/python_with_dsa/blob/main/python_codes.ipynb\" target=\"_parent\"><img src=\"https://colab.research.google.com/assets/colab-badge.svg\" alt=\"Open In Colab\"/></a>"
      ]
    },
    {
      "cell_type": "markdown",
      "metadata": {
        "id": "2V4HnHgSN-QR"
      },
      "source": [
        "prime number or not"
      ]
    },
    {
      "cell_type": "code",
      "execution_count": null,
      "metadata": {
        "colab": {
          "base_uri": "https://localhost:8080/"
        },
        "id": "eB-3Ua6YWocq",
        "outputId": "224dea03-f9a1-4e8f-947c-0ed3f4051c36"
      },
      "outputs": [
        {
          "name": "stdout",
          "output_type": "stream",
          "text": [
            "True\n"
          ]
        }
      ],
      "source": [
        "def is_prime(n):\n",
        "  if n <= 1:\n",
        "    return False\n",
        "  for i in range(2, int(n**0.5) + 1):\n",
        "      if n % i == 0:\n",
        "        return False\n",
        "  return True\n",
        "#example usage\n",
        "print(is_prime(7))"
      ]
    },
    {
      "cell_type": "markdown",
      "metadata": {
        "id": "KpkbACeHHWHe"
      },
      "source": [
        "fibonocci"
      ]
    },
    {
      "cell_type": "code",
      "execution_count": null,
      "metadata": {
        "colab": {
          "base_uri": "https://localhost:8080/"
        },
        "id": "eDcXBplMMhC5",
        "outputId": "ce07d04b-f959-45aa-9852-24628031b1cb"
      },
      "outputs": [
        {
          "name": "stdout",
          "output_type": "stream",
          "text": [
            "0 1 1 2 3 None\n"
          ]
        }
      ],
      "source": [
        "def fibonocci(n):\n",
        "  a,b = 0,1\n",
        "  for i in range(n):\n",
        "    print(a,  end=\" \")\n",
        "    a,b = b,a+b\n",
        "# eaxmaple usage\n",
        "print(fibonocci(5))"
      ]
    },
    {
      "cell_type": "markdown",
      "metadata": {
        "id": "M0ErAFjFWXDP"
      },
      "source": [
        "reverse string"
      ]
    },
    {
      "cell_type": "code",
      "execution_count": null,
      "metadata": {
        "colab": {
          "background_save": true
        },
        "id": "TvUhIyj8WdWe",
        "outputId": "683abdc2-29fe-4610-9a82-0e4546beb86d"
      },
      "outputs": [
        {
          "name": "stdout",
          "output_type": "stream",
          "text": [
            "olleh\n"
          ]
        }
      ],
      "source": [
        "def reverse_string(s):\n",
        "  return s[::-1]\n",
        "#example usage\n",
        "print(reverse_string(\"hello\"))"
      ]
    },
    {
      "cell_type": "markdown",
      "metadata": {
        "id": "wOoRFeZMMUkw"
      },
      "source": [
        "factorialm"
      ]
    },
    {
      "cell_type": "code",
      "execution_count": null,
      "metadata": {
        "colab": {
          "base_uri": "https://localhost:8080/"
        },
        "id": "WBn9ADc8M7wi",
        "outputId": "69faad5d-0141-4996-85b1-642eedb652e4"
      },
      "outputs": [
        {
          "name": "stdout",
          "output_type": "stream",
          "text": [
            "120\n"
          ]
        }
      ],
      "source": [
        "def factorial(n):\n",
        "  if n == 0 or n == 1:\n",
        "    return 1\n",
        "  return n*factorial(n-1)\n",
        "print(factorial(5))"
      ]
    },
    {
      "cell_type": "markdown",
      "metadata": {
        "id": "IT20mJyWNv_l"
      },
      "source": [
        "palindrome"
      ]
    },
    {
      "cell_type": "code",
      "execution_count": null,
      "metadata": {
        "colab": {
          "base_uri": "https://localhost:8080/"
        },
        "id": "P_eEULW9N1sf",
        "outputId": "d59235b6-68ea-480f-cb05-f66e675a3547"
      },
      "outputs": [
        {
          "name": "stdout",
          "output_type": "stream",
          "text": [
            "True\n"
          ]
        }
      ],
      "source": [
        "def is_palindrome(s):\n",
        "  return s == s[::-1]\n",
        "print(is_palindrome(\"madam\"))"
      ]
    },
    {
      "cell_type": "markdown",
      "metadata": {
        "id": "sK6pAIiW1kXw"
      },
      "source": [
        "arm strong"
      ]
    },
    {
      "cell_type": "code",
      "execution_count": null,
      "metadata": {
        "colab": {
          "base_uri": "https://localhost:8080/"
        },
        "id": "0yC6UiRW1wFr",
        "outputId": "be477ee6-ff0a-43ce-f32a-4c39f5e984ef"
      },
      "outputs": [
        {
          "name": "stdout",
          "output_type": "stream",
          "text": [
            "True\n"
          ]
        }
      ],
      "source": [
        "def is_armstrong(n):\n",
        "  digit = str(n)\n",
        "  power = len(digit)\n",
        "  total = sum(int(d)**power for d in digit)\n",
        "  return total == n\n",
        "print(is_armstrong(153))"
      ]
    },
    {
      "cell_type": "code",
      "execution_count": null,
      "metadata": {
        "id": "MKdpmr7Liiow"
      },
      "outputs": [],
      "source": [
        "n = int(input())\n",
        "a = sum(int(digit)**len(str(n) for digit in str(n)))\n",
        "if a == n\n",
        "  print(\"true\")\n",
        "else:\n",
        "  print(\"no\")"
      ]
    },
    {
      "cell_type": "markdown",
      "metadata": {
        "id": "nNRr-wRZ2Yf0"
      },
      "source": [
        "**largest element in list**"
      ]
    },
    {
      "cell_type": "code",
      "execution_count": null,
      "metadata": {
        "colab": {
          "base_uri": "https://localhost:8080/"
        },
        "id": "b4jS-4uP2hl6",
        "outputId": "7fb31d98-6ce4-4d98-bbfc-91b7f5bf4bbd"
      },
      "outputs": [
        {
          "name": "stdout",
          "output_type": "stream",
          "text": [
            "8\n"
          ]
        }
      ],
      "source": [
        "def largest_element(n):\n",
        "  return max(n)\n",
        "print(largest_element([1,2,3,4,5,6,7,8]))"
      ]
    },
    {
      "cell_type": "markdown",
      "metadata": {
        "id": "6-38Odqi2xck"
      },
      "source": [
        "swap element"
      ]
    },
    {
      "cell_type": "code",
      "execution_count": null,
      "metadata": {
        "colab": {
          "base_uri": "https://localhost:8080/"
        },
        "id": "YTXXpVcF3MIa",
        "outputId": "acadc879-78c2-479d-8ef0-23023c9e999f"
      },
      "outputs": [
        {
          "name": "stdout",
          "output_type": "stream",
          "text": [
            "5\n",
            "6\n",
            "6 5\n"
          ]
        }
      ],
      "source": [
        "a = int(input())\n",
        "b = int(input())\n",
        "a,b = b,a\n",
        "print(a,b)\n"
      ]
    },
    {
      "cell_type": "markdown",
      "metadata": {
        "id": "5FNbeMJJ3bDh"
      },
      "source": [
        "sum of digits"
      ]
    },
    {
      "cell_type": "code",
      "execution_count": null,
      "metadata": {
        "colab": {
          "base_uri": "https://localhost:8080/"
        },
        "id": "tq3ySQ-U3fWS",
        "outputId": "d56c170f-96f4-4a1e-c168-df2d68a75282"
      },
      "outputs": [
        {
          "name": "stdout",
          "output_type": "stream",
          "text": [
            "21\n"
          ]
        }
      ],
      "source": [
        "def sum_digits(n):\n",
        "  return sum(int(d) for d in str(n))\n",
        "print(sum_digits(123456))"
      ]
    },
    {
      "cell_type": "markdown",
      "metadata": {
        "id": "NObcqAjq4RsZ"
      },
      "source": [
        "count of vowels"
      ]
    },
    {
      "cell_type": "code",
      "execution_count": null,
      "metadata": {
        "colab": {
          "base_uri": "https://localhost:8080/"
        },
        "id": "XlOOVHk15JJB",
        "outputId": "8aa311c3-b5d5-4fae-df91-8e0c424cda9e"
      },
      "outputs": [
        {
          "name": "stdout",
          "output_type": "stream",
          "text": [
            "3\n"
          ]
        }
      ],
      "source": [
        "def count_vowels(n):\n",
        "  vowels = \"aeiouAEIOU\"\n",
        "  return sum( 1 for char in n if char in vowels)\n",
        "print(count_vowels(\"hello world\"))"
      ]
    },
    {
      "cell_type": "markdown",
      "metadata": {
        "id": "XDfKeCUkLn_I"
      },
      "source": [
        "even and odd"
      ]
    },
    {
      "cell_type": "code",
      "execution_count": null,
      "metadata": {
        "colab": {
          "base_uri": "https://localhost:8080/"
        },
        "id": "fvNEzHyDLwUL",
        "outputId": "b9942207-a57d-4a1f-a569-d92029d1d61c"
      },
      "outputs": [
        {
          "name": "stdout",
          "output_type": "stream",
          "text": [
            "False\n"
          ]
        }
      ],
      "source": [
        "def even_odd(n):\n",
        "  if n % 2 == 0:\n",
        "    return True\n",
        "  else:\n",
        "    return False\n",
        "print(even_odd(3))"
      ]
    },
    {
      "cell_type": "markdown",
      "metadata": {
        "id": "9_GYZhn9MKDJ"
      },
      "source": [
        "gcd"
      ]
    },
    {
      "cell_type": "code",
      "execution_count": null,
      "metadata": {
        "colab": {
          "base_uri": "https://localhost:8080/"
        },
        "id": "-UZEJqSXMMes",
        "outputId": "a9edd090-ee7f-4d8f-c07b-b00eccded2ca"
      },
      "outputs": [
        {
          "name": "stdout",
          "output_type": "stream",
          "text": [
            "6\n"
          ]
        }
      ],
      "source": [
        "def find_gcd(a,b):\n",
        "  import math\n",
        "  return math.gcd(a,b)\n",
        "print(find_gcd(12,18))\n"
      ]
    },
    {
      "cell_type": "markdown",
      "metadata": {
        "id": "1eXAX8zpMl08"
      },
      "source": [
        "lcm of two numbers"
      ]
    },
    {
      "cell_type": "code",
      "execution_count": null,
      "metadata": {
        "colab": {
          "base_uri": "https://localhost:8080/"
        },
        "id": "js1nbsP3QDAU",
        "outputId": "25012f5f-edfe-41be-c4bf-6a3c2bbcecf7"
      },
      "outputs": [
        {
          "name": "stdout",
          "output_type": "stream",
          "text": [
            "60\n"
          ]
        }
      ],
      "source": [
        "from math import gcd\n",
        "def lcm_of_two_numbers(a,b):\n",
        "  return abs(a*b)//gcd(a,b)\n",
        "print(lcm_of_two_numbers(12,15))"
      ]
    },
    {
      "cell_type": "markdown",
      "metadata": {
        "id": "ojkic262QbIN"
      },
      "source": [
        "leap year"
      ]
    },
    {
      "cell_type": "code",
      "execution_count": null,
      "metadata": {
        "colab": {
          "base_uri": "https://localhost:8080/"
        },
        "id": "yppXSwfgQc88",
        "outputId": "67e35fc3-0fcf-425b-8092-36137c4915fe"
      },
      "outputs": [
        {
          "name": "stdout",
          "output_type": "stream",
          "text": [
            "False\n"
          ]
        }
      ],
      "source": [
        "def leap_year(year):\n",
        "  return(year % 4 == 0 and year % 100 != 0) or (year % 100 == 0)\n",
        "print(leap_year(2025))"
      ]
    },
    {
      "cell_type": "markdown",
      "metadata": {
        "id": "naQ7lE6tQzoc"
      },
      "source": [
        "length of list with out list"
      ]
    },
    {
      "cell_type": "code",
      "execution_count": null,
      "metadata": {
        "colab": {
          "base_uri": "https://localhost:8080/"
        },
        "id": "Qxa2PYlVQ4H6",
        "outputId": "a084f0b7-6512-46df-c713-46148d2ca96f"
      },
      "outputs": [
        {
          "name": "stdout",
          "output_type": "stream",
          "text": [
            "6\n"
          ]
        }
      ],
      "source": [
        "def count_list(n):\n",
        "  count = 0\n",
        "  for i in n:\n",
        "   count += 1\n",
        "  return count\n",
        "print(count_list([1,2,3,4,5,6]))"
      ]
    },
    {
      "cell_type": "markdown",
      "metadata": {
        "id": "hDsFEduoRW9q"
      },
      "source": [
        "find duplicate elements in list\n"
      ]
    },
    {
      "cell_type": "code",
      "execution_count": null,
      "metadata": {
        "colab": {
          "base_uri": "https://localhost:8080/"
        },
        "id": "-LHWJGW4Rdby",
        "outputId": "7b87b78e-51b1-40ae-9c52-35c771d1a21d"
      },
      "outputs": [
        {
          "name": "stdout",
          "output_type": "stream",
          "text": [
            "[3, 4]\n"
          ]
        }
      ],
      "source": [
        "def find_duplicate(n):\n",
        "  return list(set([x for x in n if n.count(x)> 1]))\n",
        "print(find_duplicate([1,2,3,4,3,4,5,6]))"
      ]
    },
    {
      "cell_type": "markdown",
      "metadata": {
        "id": "Nj4ZmDQyWW5g"
      },
      "source": [
        "sort list without using sort"
      ]
    },
    {
      "cell_type": "code",
      "execution_count": null,
      "metadata": {
        "colab": {
          "base_uri": "https://localhost:8080/"
        },
        "id": "xwN6gRGlWrt_",
        "outputId": "bd1b3d35-784e-4a18-f276-592fe015e40a"
      },
      "outputs": [
        {
          "name": "stdout",
          "output_type": "stream",
          "text": [
            "[1, 2, 3, 6, 7, 8, 9]\n"
          ]
        }
      ],
      "source": [
        "def manual_sort(list):\n",
        "  for i in range(len(list)):\n",
        "    for j in range(i + 1,len(list)):\n",
        "     if list[i] > list[j]:\n",
        "      list[i],list[j] = list[j],list[i]\n",
        "  return list\n",
        "print(manual_sort([1,2,3,9,8,6,7]))"
      ]
    },
    {
      "cell_type": "markdown",
      "metadata": {
        "id": "AdFIqr9GXlob"
      },
      "source": [
        "merge two list"
      ]
    },
    {
      "cell_type": "code",
      "execution_count": null,
      "metadata": {
        "colab": {
          "base_uri": "https://localhost:8080/"
        },
        "id": "rKz-UQ9rhU3b",
        "outputId": "5c1d6c79-3225-4b90-c950-b0018b9818f3"
      },
      "outputs": [
        {
          "name": "stdout",
          "output_type": "stream",
          "text": [
            "[1, 2, 3, 4, 1, 2, 3, 4, 5]\n"
          ]
        }
      ],
      "source": [
        "def merge_list(a,b):\n",
        "  return a + b\n",
        "print(merge_list([1,2,3,4],[1,2,3,4,5]))"
      ]
    },
    {
      "cell_type": "markdown",
      "metadata": {
        "id": "daZz2VJjhui2"
      },
      "source": [
        "remove duplicate list"
      ]
    },
    {
      "cell_type": "code",
      "execution_count": null,
      "metadata": {
        "colab": {
          "base_uri": "https://localhost:8080/"
        },
        "id": "F6YFD8CZh0d_",
        "outputId": "ca305db2-0e33-40fe-88e8-afdfa17d5c1c"
      },
      "outputs": [
        {
          "name": "stdout",
          "output_type": "stream",
          "text": [
            "[1, 2, 3, 4, 5, 6]\n"
          ]
        }
      ],
      "source": [
        "def remove_duplicate(n):\n",
        "  return list(set(n))\n",
        "print(remove_duplicate([1,2,3,4,3,4,5,6,5]))"
      ]
    },
    {
      "cell_type": "markdown",
      "metadata": {
        "id": "4PAJqOXAiF9Z"
      },
      "source": [
        "second largest number in list"
      ]
    },
    {
      "cell_type": "code",
      "execution_count": null,
      "metadata": {
        "colab": {
          "base_uri": "https://localhost:8080/"
        },
        "id": "8OQ420sFiiNg",
        "outputId": "3a993a9b-9a92-42ad-a473-c3d225e43b00"
      },
      "outputs": [
        {
          "name": "stdout",
          "output_type": "stream",
          "text": [
            "3\n"
          ]
        }
      ],
      "source": [
        "def second_largest(list):\n",
        "  first = second = float(\"-inf\")\n",
        "  for num in list:\n",
        "    if num > first:\n",
        "      second = first\n",
        "      first = num\n",
        "    elif first > num > second:\n",
        "      second = num\n",
        "  return second\n",
        "print(second_largest([3,5,2]))"
      ]
    },
    {
      "cell_type": "markdown",
      "metadata": {
        "id": "2vgecRENl8Am"
      },
      "source": [
        "perfect sqaure"
      ]
    },
    {
      "cell_type": "code",
      "execution_count": null,
      "metadata": {
        "colab": {
          "base_uri": "https://localhost:8080/"
        },
        "id": "1nDbQ2XDmC4f",
        "outputId": "51fde4aa-1852-40e8-bd7f-cd0ace13b3ad"
      },
      "outputs": [
        {
          "name": "stdout",
          "output_type": "stream",
          "text": [
            "True\n"
          ]
        }
      ],
      "source": [
        "import math\n",
        "def perfect_square(n):\n",
        "  return int(math.sqrt(n))**2 == n\n",
        "print(perfect_square(16))"
      ]
    },
    {
      "cell_type": "markdown",
      "metadata": {
        "id": "oaN5pwjunbgz"
      },
      "source": [
        "all factors of a number"
      ]
    },
    {
      "cell_type": "code",
      "execution_count": null,
      "metadata": {
        "colab": {
          "base_uri": "https://localhost:8080/"
        },
        "id": "5NYdlS4ZnfZR",
        "outputId": "2371c8bf-9cc0-490c-86fe-fb96ae5e4e38"
      },
      "outputs": [
        {
          "name": "stdout",
          "output_type": "stream",
          "text": [
            "[1, 2, 3, 4, 6, 12]\n"
          ]
        }
      ],
      "source": [
        "def factors(n):\n",
        "  return [i for i in range(1,n+1) if n%i == 0]\n",
        "print(factors((12)))"
      ]
    },
    {
      "cell_type": "markdown",
      "metadata": {
        "id": "gNHl428_n5sG"
      },
      "source": [
        "count frequency of elements in list"
      ]
    },
    {
      "cell_type": "code",
      "execution_count": null,
      "metadata": {
        "colab": {
          "base_uri": "https://localhost:8080/"
        },
        "id": "V4pWnThRW1wk",
        "outputId": "cff0ccb2-f72b-4c50-ba34-8bf0f99c922b"
      },
      "outputs": [
        {
          "name": "stdout",
          "output_type": "stream",
          "text": [
            "{1: 1, 2: 2, 3: 1}\n"
          ]
        }
      ],
      "source": [
        "from collections import Counter\n",
        "def count_frequency(n):\n",
        "  return dict(Counter(n))\n",
        "print(count_frequency([1,2,3,2]))"
      ]
    },
    {
      "cell_type": "markdown",
      "metadata": {
        "id": "hWb20KVIXv4i"
      },
      "source": [
        "check if two stings are anagram"
      ]
    },
    {
      "cell_type": "code",
      "execution_count": null,
      "metadata": {
        "colab": {
          "base_uri": "https://localhost:8080/"
        },
        "id": "uNN0U--rYKt2",
        "outputId": "958a71be-be81-44e3-a906-868754a4310a"
      },
      "outputs": [
        {
          "name": "stdout",
          "output_type": "stream",
          "text": [
            "True\n"
          ]
        }
      ],
      "source": [
        "def two_anagram(a,b):\n",
        "  return sorted(a) == sorted(b)\n",
        "print(two_anagram(\"listen\",\"silent\"))"
      ]
    },
    {
      "cell_type": "markdown",
      "metadata": {
        "id": "PhDYF7adXl71"
      },
      "source": [
        "sum of digits numbers using while loop"
      ]
    },
    {
      "cell_type": "code",
      "execution_count": null,
      "metadata": {
        "colab": {
          "base_uri": "https://localhost:8080/"
        },
        "id": "EIjd2f5tCraw",
        "outputId": "e0742bde-17d0-489b-e03b-551e9984aa61"
      },
      "outputs": [
        {
          "name": "stdout",
          "output_type": "stream",
          "text": [
            "234\n",
            "9\n"
          ]
        }
      ],
      "source": [
        "n = int(input())\n",
        "total = 0\n",
        "while n > 0:\n",
        "  total += n % 10\n",
        "  n//=10\n",
        "print(total)\n"
      ]
    },
    {
      "cell_type": "code",
      "execution_count": null,
      "metadata": {
        "colab": {
          "base_uri": "https://localhost:8080/"
        },
        "id": "OOAGON0tEP6m",
        "outputId": "01ce6207-c556-4c15-b240-3504ccf168cc"
      },
      "outputs": [
        {
          "name": "stdout",
          "output_type": "stream",
          "text": [
            "1\n",
            "2\n",
            "3\n",
            "4\n"
          ]
        }
      ],
      "source": [
        "for i in range(1, 11):\n",
        "    if i == 5:\n",
        "        break\n",
        "    print(i)\n"
      ]
    },
    {
      "cell_type": "code",
      "execution_count": null,
      "metadata": {
        "colab": {
          "base_uri": "https://localhost:8080/"
        },
        "id": "GnGh1_DaETul",
        "outputId": "23209831-f117-429b-b03a-891e12bcf695"
      },
      "outputs": [
        {
          "name": "stdout",
          "output_type": "stream",
          "text": [
            "1\n",
            "2\n",
            "3\n",
            "4\n",
            "6\n",
            "7\n",
            "8\n",
            "9\n",
            "10\n"
          ]
        }
      ],
      "source": [
        "for i in range(1, 11):\n",
        "    if i == 5:\n",
        "        continue\n",
        "    print(i)\n"
      ]
    },
    {
      "cell_type": "code",
      "execution_count": null,
      "metadata": {
        "colab": {
          "base_uri": "https://localhost:8080/"
        },
        "id": "YCa8b0CGEW1i",
        "outputId": "061ef87c-aa27-4ad1-e940-91b4a19554ef"
      },
      "outputs": [
        {
          "name": "stdout",
          "output_type": "stream",
          "text": [
            "* \n",
            "* * \n",
            "* * * \n",
            "* * * * \n",
            "* * * * * \n"
          ]
        }
      ],
      "source": [
        "# Right-angled triangle of stars\n",
        "n = 5\n",
        "for i in range(1,n+1):\n",
        "    for j in range(i):\n",
        "        print(\"*\",end = \" \")\n",
        "    print()\n"
      ]
    },
    {
      "cell_type": "code",
      "execution_count": null,
      "metadata": {
        "colab": {
          "base_uri": "https://localhost:8080/"
        },
        "id": "-b5nVLdEGf03",
        "outputId": "00fd5a55-6f5c-4501-b54f-eb6aa4f40c19"
      },
      "outputs": [
        {
          "name": "stdout",
          "output_type": "stream",
          "text": [
            "11 13 17 19 23 29 \n",
            " Total prime numbers: 6\n"
          ]
        }
      ],
      "source": [
        "s = 10\n",
        "e = 30\n",
        "count = 0\n",
        "for i in range(s, e + 1):\n",
        "  if i < 2:\n",
        "    continue\n",
        "  for j in range(2, int(i**0.5) + 1):\n",
        "     if i % j == 0:\n",
        "        break\n",
        "  else:\n",
        "    print(i, end=\" \")\n",
        "    count += 1\n",
        "print(\"\\n Total prime numbers:\",count)"
      ]
    },
    {
      "cell_type": "code",
      "execution_count": null,
      "metadata": {
        "id": "7sW-pmjxKC6z"
      },
      "outputs": [],
      "source": [
        "n =int(input())\n",
        "rev = 0\n",
        "while n > 0:\n",
        "  rev = rev*10+n%10\n",
        "  n//=10\n",
        "  print(rev)"
      ]
    },
    {
      "cell_type": "code",
      "execution_count": null,
      "metadata": {
        "id": "i0vZLGMWLQr_"
      },
      "outputs": [],
      "source": [
        "n = 4\n",
        "for i in range(1,n+1):\n",
        "  for j in range(1,i+1):\n",
        "    if j == 1 or j == i or j == n:\n",
        "      print(i,end=\" \")\n",
        "    else:\n",
        "      print(\" \",end=\" \")\n",
        "  print()"
      ]
    },
    {
      "cell_type": "code",
      "execution_count": null,
      "metadata": {
        "id": "4JDQbAgpL3ic"
      },
      "outputs": [],
      "source": [
        "n = 3\n",
        "for i in range(n):\n",
        "    print(\" \" * (n - i - 1) + \"*\" * (2*i + 1))\n",
        "for i in range(n - 2, -1, -1):\n",
        "    print(\" \" * (n - i - 1) + \"*\" * (2*i + 1))\n"
      ]
    },
    {
      "cell_type": "code",
      "execution_count": null,
      "metadata": {
        "id": "81d17DByL69R"
      },
      "outputs": [],
      "source": [
        "for i in range(3):\n",
        "    if i == 1:\n",
        "        continue\n",
        "    print(i)\n"
      ]
    },
    {
      "cell_type": "code",
      "execution_count": null,
      "metadata": {
        "id": "7koDxrkQL9nh"
      },
      "outputs": [],
      "source": [
        "x = 5\n",
        "while x:\n",
        "    x -= 1\n",
        "    if x == 2:\n",
        "        break\n",
        "    print(x, end=' ')\n"
      ]
    },
    {
      "cell_type": "code",
      "execution_count": null,
      "metadata": {
        "id": "GbO7kyPkMAGU"
      },
      "outputs": [],
      "source": [
        "count = 0\n",
        "for i in range(1, 10):\n",
        "    if i % 3 == 0:\n",
        "        break\n",
        "    count += 1\n"
      ]
    },
    {
      "cell_type": "code",
      "execution_count": null,
      "metadata": {
        "colab": {
          "base_uri": "https://localhost:8080/"
        },
        "id": "7DxhMGT5OqC3",
        "outputId": "f605d875-5793-4600-f861-01ba66fc3a8f"
      },
      "outputs": [
        {
          "output_type": "stream",
          "name": "stdout",
          "text": [
            "18 2 10 4 9\n",
            "(18, 2)\n"
          ]
        }
      ],
      "source": [
        "arr = list(map(int, input().split()))\n",
        "def max_min(arr):\n",
        "  maximum = arr[0]\n",
        "  minimum = arr[0]\n",
        "  for i in arr:\n",
        "    if i > maximum:\n",
        "      maximum = i\n",
        "    elif i < minimum:\n",
        "      minimum = i\n",
        "  return maximum,minimum\n",
        "print(max_min(arr))"
      ]
    },
    {
      "cell_type": "code",
      "source": [
        "arr = list(map(int, input().split()))\n",
        "\n",
        "def removeduplicate(arr):\n",
        "    if not arr:\n",
        "        return 0, []\n",
        "\n",
        "    k = 1\n",
        "    for i in range(1, len(arr)):\n",
        "        if arr[i] != arr[i - 1]:\n",
        "            arr[k] = arr[i]\n",
        "            k += 1\n",
        "    return k, arr[:k]\n",
        "\n",
        "k, unique = removeduplicate(sorted(arr))\n",
        "print(\"Unique count:\", k)\n",
        "print(\"Unique elements:\", unique)\n"
      ],
      "metadata": {
        "colab": {
          "base_uri": "https://localhost:8080/"
        },
        "id": "K3a2xt6WXxKt",
        "outputId": "63186bb6-1524-45c5-cdd6-8452ce23d1b7"
      },
      "execution_count": null,
      "outputs": [
        {
          "output_type": "stream",
          "name": "stdout",
          "text": [
            "18 2 4 3 2\n",
            "Unique count: 4\n",
            "Unique elements: [2, 3, 4, 18]\n"
          ]
        }
      ]
    },
    {
      "cell_type": "code",
      "source": [
        "nums = [1,2,2,3,4]\n",
        "val = 2\n",
        "k = 0\n",
        "for i in range(len(nums)):\n",
        "  if nums[i] != val:\n",
        "    nums[k] = nums[i]\n",
        "    k += 1\n",
        "print(\"k =\", k)\n",
        "print(\"Modified nums (first k elements):\", nums[:k])\n"
      ],
      "metadata": {
        "colab": {
          "base_uri": "https://localhost:8080/"
        },
        "id": "1ae2pivThtoe",
        "outputId": "f1727a71-d4c9-4876-8a98-9b29cba6e4ae"
      },
      "execution_count": null,
      "outputs": [
        {
          "output_type": "stream",
          "name": "stdout",
          "text": [
            "k = 3\n",
            "Modified nums (first k elements): [1, 3, 4]\n"
          ]
        }
      ]
    },
    {
      "cell_type": "code",
      "source": [
        "from typing import List\n",
        "class Solution:\n",
        "    def searchInsert(self, nums: List[int], target: int) -> int:\n",
        "        left = 0\n",
        "        right = len(nums)-1\n",
        "        while left <= right:\n",
        "            mid = (left + right)//2\n",
        "            if nums[mid] == target:\n",
        "               return mid\n",
        "            elif nums[mid] < target:\n",
        "               left = mid + 1\n",
        "            else:\n",
        "               right = mid -1\n",
        "        return left"
      ],
      "metadata": {
        "id": "0T4QxGDiiegL"
      },
      "execution_count": null,
      "outputs": []
    },
    {
      "cell_type": "code",
      "source": [
        "num1 = [1, 2, 3, 0, 0, 0]\n",
        "m = 3\n",
        "num2 = [2, 5, 6]\n",
        "n = 3\n",
        "def merge(num1,m,num2,n):\n",
        "  i = m-1\n",
        "  j = n-1\n",
        "  k = m+n-1\n",
        "  while i >= 0 and j >= 0:\n",
        "    if num1[i] > num2[j]:\n",
        "      num1[k] = num1[i]\n",
        "      i -= 1\n",
        "    else:\n",
        "      num1[k] = num2[j]\n",
        "      j-=1\n",
        "    k-=1\n",
        "  while j >= 0:\n",
        "    num1[k] = num2[j]\n",
        "    j-=1\n",
        "    k-=1\n",
        "merge(num1, m, num2, n)\n",
        "print(num1)\n",
        "\n"
      ],
      "metadata": {
        "colab": {
          "base_uri": "https://localhost:8080/"
        },
        "id": "rDJZEIDGQxvH",
        "outputId": "da9cfa45-1ec9-47b3-9ce2-6c490b6d2197"
      },
      "execution_count": null,
      "outputs": [
        {
          "output_type": "stream",
          "name": "stdout",
          "text": [
            "[1, 2, 2, 3, 5, 6]\n"
          ]
        }
      ]
    },
    {
      "cell_type": "code",
      "source": [
        "digits = list(map(int, input(\"Enter digits seperated by space: \").split()))\n",
        "n = len(digits)\n",
        "for i in range(n-1,-1,-1):\n",
        "  if digits[i] < 9:\n",
        "    digits[i] += 1\n",
        "    print(digits)\n",
        "    break\n",
        "  digits[i] = 0\n",
        "else:\n",
        "  digits = [1] + digits\n",
        "  print(digits)"
      ],
      "metadata": {
        "id": "hQoWACDaTdF7",
        "colab": {
          "base_uri": "https://localhost:8080/"
        },
        "outputId": "8130ceab-c6fe-4e7a-9ab6-fb1bb9dbebfb"
      },
      "execution_count": null,
      "outputs": [
        {
          "output_type": "stream",
          "name": "stdout",
          "text": [
            "Enter digits seperated by space: 1 2 3 \n",
            "[1, 2, 4]\n"
          ]
        }
      ]
    },
    {
      "cell_type": "code",
      "source": [
        "r = [1,2,3]\n",
        "n = len(r)\n",
        "r[n-1]=r[n-1]+1\n",
        "print(r)"
      ],
      "metadata": {
        "colab": {
          "base_uri": "https://localhost:8080/"
        },
        "id": "mwyKpGOdBto9",
        "outputId": "eeb4ca61-cf04-4df1-85f1-1768b245e51b"
      },
      "execution_count": null,
      "outputs": [
        {
          "output_type": "stream",
          "name": "stdout",
          "text": [
            "[1, 2, 4]\n"
          ]
        }
      ]
    },
    {
      "cell_type": "code",
      "source": [
        "from typing import List, Optional\n",
        "\n",
        "class TreeNode:\n",
        "    def __init__(self, val: int):\n",
        "        self.val = val\n",
        "        self.left: Optional[TreeNode] = None\n",
        "        self.right: Optional[TreeNode] = None\n",
        "\n",
        "class Solution:\n",
        "    def sortedArray(self, nums: List[int]) -> Optional[TreeNode]:\n",
        "        if not nums:\n",
        "            return None\n",
        "        mid = len(nums) // 2\n",
        "        root = TreeNode(nums[mid])\n",
        "        root.left = self.sortedArray(nums[:mid])\n",
        "        root.right = self.sortedArray(nums[mid+1:])\n",
        "        return root\n",
        "def inorder(root: Optional[TreeNode]):\n",
        "    if root:\n",
        "        inorder(root.left)\n",
        "        print(root.val, end=' ')\n",
        "        inorder(root.right)\n",
        "\n",
        "# Example usage\n",
        "nums = [-10, -3, 0, 5, 9]\n",
        "sol = Solution()\n",
        "tree = sol.sortedArray(nums)\n",
        "print(\"Inorder traversal of BST:\")\n",
        "inorder(tree)"
      ],
      "metadata": {
        "colab": {
          "base_uri": "https://localhost:8080/"
        },
        "id": "lmAzqT2tT9jk",
        "outputId": "c60e6b0e-4604-4db4-cd8a-483809238d11"
      },
      "execution_count": null,
      "outputs": [
        {
          "output_type": "stream",
          "name": "stdout",
          "text": [
            "Inorder traversal of BST:\n",
            "-10 -3 0 5 9 "
          ]
        }
      ]
    },
    {
      "cell_type": "code",
      "source": [
        "n = list(map(int, input().split()))\n",
        "nums.sort()\n",
        "result = max(nums[-1] * nums[-2] * nums[-3], nums[0] * nums[1] * nums[-1])\n",
        "\n",
        "print(result)\n"
      ],
      "metadata": {
        "colab": {
          "base_uri": "https://localhost:8080/"
        },
        "id": "d45Q7sSa0TPy",
        "outputId": "508db618-6c46-44b4-e430-0a178a34c2d8"
      },
      "execution_count": null,
      "outputs": [
        {
          "output_type": "stream",
          "name": "stdout",
          "text": [
            "123\n",
            "6\n"
          ]
        }
      ]
    },
    {
      "cell_type": "code",
      "source": [
        "def generate(numrows):\n",
        "  t = []\n",
        "  for i in range(numrows):\n",
        "    r = [1] * (i+1)\n",
        "    for j in range(1,i):\n",
        "      r[j] = t[i-1][j-1]+t[i-1][j]\n",
        "    t.append(r)\n",
        "  return t\n",
        "\n",
        "n = int(input(\"Enter number of rows: \"))\n",
        "result = generate(n)\n",
        "print(result)\n"
      ],
      "metadata": {
        "colab": {
          "base_uri": "https://localhost:8080/"
        },
        "id": "eKG52sh5yi9Q",
        "outputId": "2a2a162d-fe69-4331-dfd0-ba28800db8e3"
      },
      "execution_count": null,
      "outputs": [
        {
          "output_type": "stream",
          "name": "stdout",
          "text": [
            "Enter number of rows: 5\n",
            "[[1], [1, 1], [1, 2, 1], [1, 3, 3, 1], [1, 4, 6, 4, 1]]\n"
          ]
        }
      ]
    },
    {
      "cell_type": "code",
      "source": [
        "def majorityElements(nums):\n",
        "  count = 0\n",
        "  c = None\n",
        "  for num in nums:\n",
        "    if count == 0:\n",
        "      c = num\n",
        "    count += 1 if num == c else -1\n",
        "  if nums.count(c) > len(nums)//2:\n",
        "     return c\n",
        "  else:\n",
        "    return -1\n",
        "nums = [6, 5, 5]\n",
        "print(majorityElements(nums))"
      ],
      "metadata": {
        "colab": {
          "base_uri": "https://localhost:8080/"
        },
        "id": "7UKpLNfI-ggK",
        "outputId": "f7b00b2a-1b34-4a63-f8a0-502e703a657f"
      },
      "execution_count": null,
      "outputs": [
        {
          "output_type": "stream",
          "name": "stdout",
          "text": [
            "5\n"
          ]
        }
      ]
    },
    {
      "cell_type": "code",
      "source": [
        "rowIndex = int(input(\"Enter row index: \"))\n",
        "\n",
        "row = [1]\n",
        "for i in range(1, rowIndex + 1):\n",
        "    new_row = [1]\n",
        "    for j in range(1, len(row)):\n",
        "        new_row.append(row[j - 1] + row[j])\n",
        "    new_row.append(1)\n",
        "    row = new_row\n",
        "\n",
        "print(\"Pascal's Triangle Row:\", row)"
      ],
      "metadata": {
        "colab": {
          "base_uri": "https://localhost:8080/"
        },
        "id": "m483cjtJ-w9W",
        "outputId": "026d58a9-3482-4079-b887-890a7a948293"
      },
      "execution_count": null,
      "outputs": [
        {
          "output_type": "stream",
          "name": "stdout",
          "text": [
            "Enter row index: 3\n",
            "Pascal's Triangle Row: [1, 3, 3, 1]\n"
          ]
        }
      ]
    },
    {
      "cell_type": "code",
      "source": [
        "def max_prices(prices):\n",
        "  min_price = float('inf')\n",
        "  max_profit = 0\n",
        "  for price in prices:\n",
        "    if price < min_price:\n",
        "      min_price = price\n",
        "    else:\n",
        "      profit = price-min_price\n",
        "      if profit > max_profit:\n",
        "        max_profit = profit\n",
        "  return max_profit\n",
        "prices = [7,1,5,3,6,4]\n",
        "print(max_prices(prices))\n"
      ],
      "metadata": {
        "colab": {
          "base_uri": "https://localhost:8080/"
        },
        "id": "g49bid9x15JT",
        "outputId": "23306718-1ce2-4156-e1a8-ba108f0433ae"
      },
      "execution_count": null,
      "outputs": [
        {
          "output_type": "stream",
          "name": "stdout",
          "text": [
            "5\n"
          ]
        }
      ]
    },
    {
      "cell_type": "code",
      "source": [
        "nums = list(map(int, input().split()))\n",
        "print(len(nums) != len(set(nums)))\n"
      ],
      "metadata": {
        "id": "oQt9tWBI_EmG",
        "outputId": "a2da662d-71ba-4ff6-ac48-361afa0420bd",
        "colab": {
          "base_uri": "https://localhost:8080/"
        }
      },
      "execution_count": null,
      "outputs": [
        {
          "output_type": "stream",
          "name": "stdout",
          "text": [
            "1 2 2 3 4 \n",
            "True\n"
          ]
        }
      ]
    },
    {
      "cell_type": "code",
      "source": [
        "nums = [1,2,3,4,5,5]\n",
        "r = 0\n",
        "for num in nums:\n",
        "  r^=num\n",
        "print(r)"
      ],
      "metadata": {
        "colab": {
          "base_uri": "https://localhost:8080/"
        },
        "id": "j9nQbag0fWZf",
        "outputId": "86d144a0-168c-4b30-f70a-3d4e470b0ec9"
      },
      "execution_count": null,
      "outputs": [
        {
          "output_type": "stream",
          "name": "stdout",
          "text": [
            "4\n"
          ]
        }
      ]
    },
    {
      "cell_type": "code",
      "source": [
        "def contains_nearby_duplicate(nums, k):\n",
        "    seen = {}\n",
        "    for i, num in enumerate(nums):\n",
        "        if num in seen and i - seen[num] <= k:\n",
        "            return True\n",
        "        seen[num] = i\n",
        "    return False\n",
        "print(contains_nearby_duplicate([1, 2, 3, 1], 3))"
      ],
      "metadata": {
        "id": "8h5XLlJKrvt5",
        "outputId": "65e07b71-3c85-4590-dfb4-d3f75fb39ed9",
        "colab": {
          "base_uri": "https://localhost:8080/"
        }
      },
      "execution_count": null,
      "outputs": [
        {
          "output_type": "stream",
          "name": "stdout",
          "text": [
            "True\n"
          ]
        }
      ]
    },
    {
      "cell_type": "code",
      "source": [
        "nums = [3, 0, 1]\n",
        "\n",
        "n = len(nums)\n",
        "expected_sum = n * (n + 1) // 2\n",
        "actual_sum = sum(nums)\n",
        "missing = expected_sum - actual_sum\n",
        "\n",
        "print(missing)\n"
      ],
      "metadata": {
        "colab": {
          "base_uri": "https://localhost:8080/"
        },
        "id": "cWM1Fy0VRQar",
        "outputId": "fe338d2b-c575-45fe-e4a4-64c7f2060ec2"
      },
      "execution_count": null,
      "outputs": [
        {
          "output_type": "stream",
          "name": "stdout",
          "text": [
            "2\n"
          ]
        }
      ]
    },
    {
      "cell_type": "code",
      "source": [
        "nums = [0,1,2,4,5,7]\n",
        "res = []\n",
        "i = 0\n",
        "while i < len(nums):\n",
        "  start = nums[i]\n",
        "  while i + 1 < len(nums) and nums[i + 1] == nums[i] + 1:\n",
        "    i += 1\n",
        "  end = nums[i]\n",
        "  res.append(f\"{start}->{end}\" if start  != end else str(start))\n",
        "  i += 1\n",
        "print(res)\n",
        "\n"
      ],
      "metadata": {
        "colab": {
          "base_uri": "https://localhost:8080/"
        },
        "id": "nN06WfPNp6EY",
        "outputId": "4d49703c-198b-4f51-a230-f5285dec7b94"
      },
      "execution_count": null,
      "outputs": [
        {
          "output_type": "stream",
          "name": "stdout",
          "text": [
            "['0->2', '4->5', '7']\n"
          ]
        }
      ]
    },
    {
      "cell_type": "code",
      "source": [
        "def maximummedium(nums):\n",
        "  nums.sort()\n",
        "  n = len(nums)\n",
        "  res = 0\n",
        "  for i in range(n//3, n, 2):\n",
        "    res += nums[i]\n",
        "  return res\n",
        "nums = [1,2,3,1,2,4]\n",
        "print(maximummedium(nums))"
      ],
      "metadata": {
        "colab": {
          "base_uri": "https://localhost:8080/"
        },
        "id": "xWvZrCDNr16J",
        "outputId": "1efae89c-bd50-46a9-93d0-8ba5fd5276b1"
      },
      "execution_count": null,
      "outputs": [
        {
          "output_type": "stream",
          "name": "stdout",
          "text": [
            "5\n"
          ]
        }
      ]
    },
    {
      "cell_type": "code",
      "source": [
        "def ispalindrome(x):\n",
        "    s = str(x)\n",
        "    return s == s[::-1]\n",
        "x = \"madam\"\n",
        "print(ispalindrome(x))"
      ],
      "metadata": {
        "colab": {
          "base_uri": "https://localhost:8080/"
        },
        "id": "AYas1D94sCHJ",
        "outputId": "8c83fdf3-5c09-4368-b0b4-5ccf6a478618"
      },
      "execution_count": null,
      "outputs": [
        {
          "output_type": "stream",
          "name": "stdout",
          "text": [
            "True\n"
          ]
        }
      ]
    },
    {
      "cell_type": "code",
      "source": [
        "a = \"1010\"\n",
        "b = \"1011\"\n",
        "s = bin(int(a, 2) + int(b, 2))[2:]\n",
        "print(s)\n"
      ],
      "metadata": {
        "colab": {
          "base_uri": "https://localhost:8080/"
        },
        "id": "zpIc990xvrlJ",
        "outputId": "fa397d6d-28d2-405e-a7a7-195e219e5717"
      },
      "execution_count": null,
      "outputs": [
        {
          "output_type": "stream",
          "name": "stdout",
          "text": [
            "10101\n"
          ]
        }
      ]
    },
    {
      "cell_type": "code",
      "source": [
        "def product_except_self(nums):\n",
        "  n = len(nums)\n",
        "  o = [1] * n\n",
        "  prefix = 1\n",
        "  for i in range(n):\n",
        "    o[i] *= prefix\n",
        "    prefix *= nums[i]\n",
        "  suffix = 1\n",
        "  for i in range(n-1,-1,-1):\n",
        "    o[i] *= suffix\n",
        "    suffix *= nums[i]\n",
        "  return o\n",
        "print(product_except_self([1, 2, 3, 4]))\n",
        "print(product_except_self([-1, 1, 0, -3, 3]))"
      ],
      "metadata": {
        "colab": {
          "base_uri": "https://localhost:8080/"
        },
        "id": "lRf6ZCkqloxn",
        "outputId": "a815d0e1-b6e0-4112-ccc3-ea5a81eefd8f"
      },
      "execution_count": 1,
      "outputs": [
        {
          "output_type": "stream",
          "name": "stdout",
          "text": [
            "[24, 12, 8, 6]\n",
            "[0, 0, 9, 0, 0]\n"
          ]
        }
      ]
    }
  ],
  "metadata": {
    "colab": {
      "provenance": [],
      "authorship_tag": "ABX9TyPkXTD8oqoIxpVaoYsMoK6t",
      "include_colab_link": true
    },
    "kernelspec": {
      "display_name": "Python 3",
      "name": "python3"
    },
    "language_info": {
      "name": "python"
    }
  },
  "nbformat": 4,
  "nbformat_minor": 0
}